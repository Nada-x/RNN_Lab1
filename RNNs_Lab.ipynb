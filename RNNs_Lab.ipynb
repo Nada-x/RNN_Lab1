{
 "cells": [
  {
   "cell_type": "markdown",
   "id": "cdbfec32-1b50-43e9-a648-c9879dc4b79c",
   "metadata": {},
   "source": [
    "# Import Libraries"
   ]
  },
  {
   "cell_type": "code",
   "execution_count": 1,
   "id": "e1eb792b-8cfc-44d8-9d1c-0bf8c403fb8f",
   "metadata": {},
   "outputs": [
    {
     "name": "stderr",
     "output_type": "stream",
     "text": [
      "2023-12-03 18:58:07.733638: I tensorflow/core/platform/cpu_feature_guard.cc:182] This TensorFlow binary is optimized to use available CPU instructions in performance-critical operations.\n",
      "To enable the following instructions: AVX2 FMA, in other operations, rebuild TensorFlow with the appropriate compiler flags.\n"
     ]
    }
   ],
   "source": [
    "import os\n",
    "import re\n",
    "\n",
    "import numpy as np\n",
    "import pandas as pd\n",
    "\n",
    "import tensorflow as tf\n",
    "from tensorflow.keras.preprocessing.text import Tokenizer\n",
    "from tensorflow.keras.models import Sequential\n",
    "from tensorflow.keras.layers import Embedding, LSTM, SimpleRNN, Dense, Dropout\n",
    "from tensorflow.keras.preprocessing.sequence import pad_sequences\n",
    "from sklearn.utils import shuffle\n",
    "\n",
    "import string\n",
    "from nltk.corpus import stopwords\n",
    "from nltk.tokenize import word_tokenize\n",
    "from nltk.stem import PorterStemmer, WordNetLemmatizer\n",
    "\n",
    "import tensorflow as tf\n",
    "from tensorflow import keras\n",
    "\n",
    "# Preprocessing data\n",
    "from tensorflow.keras.preprocessing.text import Tokenizer\n",
    "from tensorflow.keras.preprocessing.sequence import pad_sequences\n",
    "\n",
    "# Model\n",
    "from tensorflow.keras.models import Sequential # model\n",
    "from tensorflow.keras.layers import LSTM, Dense, Embedding # Layers\n",
    "from tensorflow.keras.utils import to_categorical"
   ]
  },
  {
   "cell_type": "markdown",
   "id": "6a7705c2-42a1-4047-bbac-3a0f7465e032",
   "metadata": {},
   "source": [
    "# Load corpus"
   ]
  },
  {
   "cell_type": "markdown",
   "id": "31467209-c5d3-4a4f-a79f-4a2f6e68ce85",
   "metadata": {},
   "source": [
    "### Load Positives"
   ]
  },
  {
   "cell_type": "code",
   "execution_count": 2,
   "id": "8ef01310-47d6-44ac-aff1-abf4da07a42d",
   "metadata": {},
   "outputs": [],
   "source": [
    "train_tweets, train_labels = [], []\n",
    "\n",
    "pos = os.getcwd() + '/corpus/arabic_tweets/pos/'  # Replace with the actual directory path\n",
    "\n",
    "# Iterate over each file in the directory\n",
    "for filename in os.listdir(pos):\n",
    "    if filename.endswith('.txt'):  # Select only text files\n",
    "        file_path = os.path.join(pos, filename)\n",
    "        with open(file_path, 'r', encoding='utf-8-sig') as file:\n",
    "            file_content = file.read()\n",
    "            train_tweets.append(file_content)\n",
    "            train_labels.append(\"positive\")"
   ]
  },
  {
   "cell_type": "markdown",
   "id": "268d463c-377c-4730-9398-cb5fcaa5e44b",
   "metadata": {},
   "source": [
    "### Load Negatives"
   ]
  },
  {
   "cell_type": "code",
   "execution_count": 3,
   "id": "937bb606-b07a-4e7e-a83a-1ccce2b18263",
   "metadata": {},
   "outputs": [],
   "source": [
    "# Get the txt file negative tweet\n",
    "pos = os.getcwd() + '/corpus/arabic_tweets/neg/'  # Replace with the actual directory path\n",
    "\n",
    "# Iterate over each file in the directory\n",
    "for filename in os.listdir(pos):\n",
    "    if filename.endswith('.txt'):  # Select only text files\n",
    "        file_path = os.path.join(pos, filename)\n",
    "        with open(file_path, 'r', encoding='utf-8-sig') as file:\n",
    "            file_content = file.read()\n",
    "            train_tweets.append(file_content)\n",
    "            train_labels.append(\"negative\")"
   ]
  },
  {
   "cell_type": "markdown",
   "id": "3a2e8e33-f28b-4402-ab6d-f4925c1db165",
   "metadata": {},
   "source": [
    "### Build a dataframe"
   ]
  },
  {
   "cell_type": "code",
   "execution_count": 4,
   "id": "743b5741-d234-4d22-a833-76ec742cd6f3",
   "metadata": {},
   "outputs": [
    {
     "data": {
      "text/html": [
       "<div>\n",
       "<style scoped>\n",
       "    .dataframe tbody tr th:only-of-type {\n",
       "        vertical-align: middle;\n",
       "    }\n",
       "\n",
       "    .dataframe tbody tr th {\n",
       "        vertical-align: top;\n",
       "    }\n",
       "\n",
       "    .dataframe thead th {\n",
       "        text-align: right;\n",
       "    }\n",
       "</style>\n",
       "<table border=\"1\" class=\"dataframe\">\n",
       "  <thead>\n",
       "    <tr style=\"text-align: right;\">\n",
       "      <th></th>\n",
       "      <th>Tweets</th>\n",
       "      <th>Labels</th>\n",
       "    </tr>\n",
       "  </thead>\n",
       "  <tbody>\n",
       "    <tr>\n",
       "      <th>0</th>\n",
       "      <td>دامك مع #غناتي ، فالك طيب 👍\\n</td>\n",
       "      <td>positive</td>\n",
       "    </tr>\n",
       "    <tr>\n",
       "      <th>1</th>\n",
       "      <td>على الفطرة السليمه.. الله يعطيه الصحة والعافية...</td>\n",
       "      <td>positive</td>\n",
       "    </tr>\n",
       "    <tr>\n",
       "      <th>2</th>\n",
       "      <td>📷 مشجع هلالي ينبذ العنصرية ب لافته أعدها.\\n</td>\n",
       "      <td>positive</td>\n",
       "    </tr>\n",
       "    <tr>\n",
       "      <th>3</th>\n",
       "      <td>سبحان الله🌸 الحمدلله 💮 لا اله الا الله 🌿 الله ...</td>\n",
       "      <td>positive</td>\n",
       "    </tr>\n",
       "    <tr>\n",
       "      <th>4</th>\n",
       "      <td>مشاركتي في مبادراتكم الجميلة فوز وسعادة 💞\\n</td>\n",
       "      <td>positive</td>\n",
       "    </tr>\n",
       "    <tr>\n",
       "      <th>5</th>\n",
       "      <td>أراك طفلي عند الحب ، وأبي عند ضعفي ، وأخي عند ...</td>\n",
       "      <td>positive</td>\n",
       "    </tr>\n",
       "    <tr>\n",
       "      <th>6</th>\n",
       "      <td>\"وسيق الذين اتقوا ربهم إلى الجنة زمرا\" يأبى ال...</td>\n",
       "      <td>positive</td>\n",
       "    </tr>\n",
       "    <tr>\n",
       "      <th>7</th>\n",
       "      <td>ربي اغفر لي و لوالدي و لأحبتي و للمؤمنين و الم...</td>\n",
       "      <td>positive</td>\n",
       "    </tr>\n",
       "    <tr>\n",
       "      <th>8</th>\n",
       "      <td>يالله يارب على الجمال 💛\\n</td>\n",
       "      <td>positive</td>\n",
       "    </tr>\n",
       "    <tr>\n",
       "      <th>9</th>\n",
       "      <td>قوافل الا قريش 😂\\n</td>\n",
       "      <td>positive</td>\n",
       "    </tr>\n",
       "    <tr>\n",
       "      <th>10</th>\n",
       "      <td>😂 ايه هذا فايدته عرفت كيف تستغله\\n</td>\n",
       "      <td>positive</td>\n",
       "    </tr>\n",
       "    <tr>\n",
       "      <th>11</th>\n",
       "      <td>أشوف صورتك ودموعي تسابقني و ياكثر ما جيت أبمسح...</td>\n",
       "      <td>positive</td>\n",
       "    </tr>\n",
       "    <tr>\n",
       "      <th>12</th>\n",
       "      <td>الفيديو دا فيه كمية جمال غير عادى 💙\\n</td>\n",
       "      <td>positive</td>\n",
       "    </tr>\n",
       "    <tr>\n",
       "      <th>13</th>\n",
       "      <td>الشيء الوحيد الذي وصلوا فيه للعالمية هو : المس...</td>\n",
       "      <td>positive</td>\n",
       "    </tr>\n",
       "    <tr>\n",
       "      <th>14</th>\n",
       "      <td>﴿أليس الله بكاف عبده﴾ ذكر بها نفسك حينما تظن أ...</td>\n",
       "      <td>positive</td>\n",
       "    </tr>\n",
       "    <tr>\n",
       "      <th>15</th>\n",
       "      <td>سقط البشير لم تسقط السودان .. سميه البشير عوضا...</td>\n",
       "      <td>positive</td>\n",
       "    </tr>\n",
       "    <tr>\n",
       "      <th>16</th>\n",
       "      <td>_ ♨️ اقسم بالله 🍯 👍 🚫 عسل سدر جبلي طبيعي 🚫 💯 💯...</td>\n",
       "      <td>positive</td>\n",
       "    </tr>\n",
       "    <tr>\n",
       "      <th>17</th>\n",
       "      <td>وش يعني تويست بلود 🤣\\n</td>\n",
       "      <td>positive</td>\n",
       "    </tr>\n",
       "    <tr>\n",
       "      <th>18</th>\n",
       "      <td>📹 جيني من أداء فور ايفر يونق في كوتشيلا - ابري...</td>\n",
       "      <td>positive</td>\n",
       "    </tr>\n",
       "    <tr>\n",
       "      <th>19</th>\n",
       "      <td>علقولو الأعلام ليستقبلو بالمقلوب 😂😂 بدل ✅ صار ...</td>\n",
       "      <td>positive</td>\n",
       "    </tr>\n",
       "    <tr>\n",
       "      <th>20</th>\n",
       "      <td>اي والله 😁\\n</td>\n",
       "      <td>positive</td>\n",
       "    </tr>\n",
       "    <tr>\n",
       "      <th>21</th>\n",
       "      <td>💓الطيبون* مثل بائع الورد 💓 حتى إذا لم تشتري من...</td>\n",
       "      <td>positive</td>\n",
       "    </tr>\n",
       "    <tr>\n",
       "      <th>22</th>\n",
       "      <td>اللهم قدرا جميلا وخيرا يتبعه الرضا 💛\\n</td>\n",
       "      <td>positive</td>\n",
       "    </tr>\n",
       "    <tr>\n",
       "      <th>23</th>\n",
       "      <td>روابط البث المباشر لكامل مباريات البطولة: . . ...</td>\n",
       "      <td>positive</td>\n",
       "    </tr>\n",
       "    <tr>\n",
       "      <th>24</th>\n",
       "      <td>اللايركس عظيم 💫\\n</td>\n",
       "      <td>positive</td>\n",
       "    </tr>\n",
       "    <tr>\n",
       "      <th>25</th>\n",
       "      <td>↓لست أدري↓ ♪ هل الحياة جميلة ♪ ☺أم طيبتكم تزيد...</td>\n",
       "      <td>positive</td>\n",
       "    </tr>\n",
       "    <tr>\n",
       "      <th>26</th>\n",
       "      <td>🌿 ﴿ رب اشرح لي صدري ، ويسر لي أمري ﴾ ﴿ رب اشرح...</td>\n",
       "      <td>positive</td>\n",
       "    </tr>\n",
       "    <tr>\n",
       "      <th>27</th>\n",
       "      <td>منظر جميل شاب يطلب يد حبيبته للزواج لكن صاحب ا...</td>\n",
       "      <td>positive</td>\n",
       "    </tr>\n",
       "    <tr>\n",
       "      <th>28</th>\n",
       "      <td>\" حي الصباح إللي تنفس بالأذكار يشرح صدور .. إل...</td>\n",
       "      <td>positive</td>\n",
       "    </tr>\n",
       "    <tr>\n",
       "      <th>29</th>\n",
       "      <td>اره واقعا 😍\\n</td>\n",
       "      <td>positive</td>\n",
       "    </tr>\n",
       "  </tbody>\n",
       "</table>\n",
       "</div>"
      ],
      "text/plain": [
       "                                               Tweets    Labels\n",
       "0                       دامك مع #غناتي ، فالك طيب 👍\\n  positive\n",
       "1   على الفطرة السليمه.. الله يعطيه الصحة والعافية...  positive\n",
       "2         📷 مشجع هلالي ينبذ العنصرية ب لافته أعدها.\\n  positive\n",
       "3   سبحان الله🌸 الحمدلله 💮 لا اله الا الله 🌿 الله ...  positive\n",
       "4         مشاركتي في مبادراتكم الجميلة فوز وسعادة 💞\\n  positive\n",
       "5   أراك طفلي عند الحب ، وأبي عند ضعفي ، وأخي عند ...  positive\n",
       "6   \"وسيق الذين اتقوا ربهم إلى الجنة زمرا\" يأبى ال...  positive\n",
       "7   ربي اغفر لي و لوالدي و لأحبتي و للمؤمنين و الم...  positive\n",
       "8                           يالله يارب على الجمال 💛\\n  positive\n",
       "9                                  قوافل الا قريش 😂\\n  positive\n",
       "10                 😂 ايه هذا فايدته عرفت كيف تستغله\\n  positive\n",
       "11  أشوف صورتك ودموعي تسابقني و ياكثر ما جيت أبمسح...  positive\n",
       "12              الفيديو دا فيه كمية جمال غير عادى 💙\\n  positive\n",
       "13  الشيء الوحيد الذي وصلوا فيه للعالمية هو : المس...  positive\n",
       "14  ﴿أليس الله بكاف عبده﴾ ذكر بها نفسك حينما تظن أ...  positive\n",
       "15  سقط البشير لم تسقط السودان .. سميه البشير عوضا...  positive\n",
       "16  _ ♨️ اقسم بالله 🍯 👍 🚫 عسل سدر جبلي طبيعي 🚫 💯 💯...  positive\n",
       "17                             وش يعني تويست بلود 🤣\\n  positive\n",
       "18  📹 جيني من أداء فور ايفر يونق في كوتشيلا - ابري...  positive\n",
       "19  علقولو الأعلام ليستقبلو بالمقلوب 😂😂 بدل ✅ صار ...  positive\n",
       "20                                       اي والله 😁\\n  positive\n",
       "21  💓الطيبون* مثل بائع الورد 💓 حتى إذا لم تشتري من...  positive\n",
       "22             اللهم قدرا جميلا وخيرا يتبعه الرضا 💛\\n  positive\n",
       "23  روابط البث المباشر لكامل مباريات البطولة: . . ...  positive\n",
       "24                                  اللايركس عظيم 💫\\n  positive\n",
       "25  ↓لست أدري↓ ♪ هل الحياة جميلة ♪ ☺أم طيبتكم تزيد...  positive\n",
       "26  🌿 ﴿ رب اشرح لي صدري ، ويسر لي أمري ﴾ ﴿ رب اشرح...  positive\n",
       "27  منظر جميل شاب يطلب يد حبيبته للزواج لكن صاحب ا...  positive\n",
       "28  \" حي الصباح إللي تنفس بالأذكار يشرح صدور .. إل...  positive\n",
       "29                                      اره واقعا 😍\\n  positive"
      ]
     },
     "execution_count": 4,
     "metadata": {},
     "output_type": "execute_result"
    }
   ],
   "source": [
    "train_dic = {\n",
    "    'Tweets' : train_tweets,\n",
    "    'Labels' : train_labels\n",
    "}\n",
    "\n",
    "train_corpus = pd.DataFrame(train_dic)\n",
    "train_corpus.head(30)"
   ]
  },
  {
   "cell_type": "markdown",
   "id": "6b046ada-13fc-45d2-9056-b4115de8e812",
   "metadata": {},
   "source": [
    "# EDA\n",
    "\n",
    "##### Explore your dataset"
   ]
  },
  {
   "cell_type": "code",
   "execution_count": 5,
   "id": "8b6d563b-a771-43b4-8e43-3688275b1f34",
   "metadata": {},
   "outputs": [
    {
     "data": {
      "text/plain": [
       "<bound method DataFrame.info of                                                   Tweets    Labels\n",
       "0                          دامك مع #غناتي ، فالك طيب 👍\\n  positive\n",
       "1      على الفطرة السليمه.. الله يعطيه الصحة والعافية...  positive\n",
       "2            📷 مشجع هلالي ينبذ العنصرية ب لافته أعدها.\\n  positive\n",
       "3      سبحان الله🌸 الحمدلله 💮 لا اله الا الله 🌿 الله ...  positive\n",
       "4            مشاركتي في مبادراتكم الجميلة فوز وسعادة 💞\\n  positive\n",
       "...                                                  ...       ...\n",
       "58746  تو اتابع الملخص اياكس شيء عظيم يخوان والله افت...  negative\n",
       "58747                      يوم كامل وفقط أضفت فقرتين 😑\\n  negative\n",
       "58748  ما رح اتخلى عنك ❤ حتى لو بدي ازعل واتوجع منك 💔...  negative\n",
       "58749  والله عيب .. البعض يحتاج سنوات ضوئية .. حتى يت...  negative\n",
       "58750                                عذر اقبح من ذنب 🤔\\n  negative\n",
       "\n",
       "[58751 rows x 2 columns]>"
      ]
     },
     "execution_count": 5,
     "metadata": {},
     "output_type": "execute_result"
    }
   ],
   "source": [
    "train_corpus.info"
   ]
  },
  {
   "cell_type": "code",
   "execution_count": 6,
   "id": "a742ea03-beb5-4399-9428-2c4fc30278bc",
   "metadata": {},
   "outputs": [
    {
     "data": {
      "text/html": [
       "<div>\n",
       "<style scoped>\n",
       "    .dataframe tbody tr th:only-of-type {\n",
       "        vertical-align: middle;\n",
       "    }\n",
       "\n",
       "    .dataframe tbody tr th {\n",
       "        vertical-align: top;\n",
       "    }\n",
       "\n",
       "    .dataframe thead th {\n",
       "        text-align: right;\n",
       "    }\n",
       "</style>\n",
       "<table border=\"1\" class=\"dataframe\">\n",
       "  <thead>\n",
       "    <tr style=\"text-align: right;\">\n",
       "      <th></th>\n",
       "      <th>Tweets</th>\n",
       "      <th>Labels</th>\n",
       "    </tr>\n",
       "  </thead>\n",
       "  <tbody>\n",
       "    <tr>\n",
       "      <th>count</th>\n",
       "      <td>58751</td>\n",
       "      <td>58751</td>\n",
       "    </tr>\n",
       "    <tr>\n",
       "      <th>unique</th>\n",
       "      <td>36723</td>\n",
       "      <td>2</td>\n",
       "    </tr>\n",
       "    <tr>\n",
       "      <th>top</th>\n",
       "      <td>بمناسبة فوز الهلال .. 💙 سحب على آيفون XR📱 رتوي...</td>\n",
       "      <td>positive</td>\n",
       "    </tr>\n",
       "    <tr>\n",
       "      <th>freq</th>\n",
       "      <td>479</td>\n",
       "      <td>29849</td>\n",
       "    </tr>\n",
       "  </tbody>\n",
       "</table>\n",
       "</div>"
      ],
      "text/plain": [
       "                                                   Tweets    Labels\n",
       "count                                               58751     58751\n",
       "unique                                              36723         2\n",
       "top     بمناسبة فوز الهلال .. 💙 سحب على آيفون XR📱 رتوي...  positive\n",
       "freq                                                  479     29849"
      ]
     },
     "execution_count": 6,
     "metadata": {},
     "output_type": "execute_result"
    }
   ],
   "source": [
    "train_corpus.describe()"
   ]
  },
  {
   "cell_type": "code",
   "execution_count": 7,
   "id": "f3273f90-24e1-4076-af14-6773cc204695",
   "metadata": {},
   "outputs": [
    {
     "data": {
      "text/plain": [
       "(58751, 2)"
      ]
     },
     "execution_count": 7,
     "metadata": {},
     "output_type": "execute_result"
    }
   ],
   "source": [
    "train_corpus.shape"
   ]
  },
  {
   "cell_type": "code",
   "execution_count": 8,
   "id": "5bf0b553-ba9a-4fc1-929c-ef852b4f00e2",
   "metadata": {},
   "outputs": [
    {
     "data": {
      "text/plain": [
       "Index(['Tweets', 'Labels'], dtype='object')"
      ]
     },
     "execution_count": 8,
     "metadata": {},
     "output_type": "execute_result"
    }
   ],
   "source": [
    "train_corpus.columns"
   ]
  },
  {
   "cell_type": "code",
   "execution_count": 9,
   "id": "3833a0b6-6119-42a7-8573-9e90e27dcb4f",
   "metadata": {},
   "outputs": [
    {
     "data": {
      "text/plain": [
       "Tweets    0\n",
       "Labels    0\n",
       "dtype: int64"
      ]
     },
     "execution_count": 9,
     "metadata": {},
     "output_type": "execute_result"
    }
   ],
   "source": [
    "train_corpus.isnull().sum()"
   ]
  },
  {
   "cell_type": "code",
   "execution_count": 10,
   "id": "e0f605b8-6b23-43c5-b6eb-80077c686082",
   "metadata": {},
   "outputs": [
    {
     "data": {
      "text/plain": [
       "58751"
      ]
     },
     "execution_count": 10,
     "metadata": {},
     "output_type": "execute_result"
    }
   ],
   "source": [
    "len(train_corpus)"
   ]
  },
  {
   "cell_type": "code",
   "execution_count": 11,
   "id": "a0edf0b9-ca2d-4c45-a153-f1a1f5fa1778",
   "metadata": {},
   "outputs": [
    {
     "data": {
      "image/png": "[encoded data removed]",
      "text/plain": [
       "<Figure size 800x600 with 1 Axes>"
      ]
     },
     "metadata": {},
     "output_type": "display_data"
    }
   ],
   "source": [
    "import matplotlib.pyplot as plt\n",
    "import seaborn as sns\n",
    "\n",
    "plt.figure(figsize=(8, 6))\n",
    "sns.countplot(x='Labels', data=train_corpus , palette='winter')\n",
    "plt.show()"
   ]
  },
  {
   "cell_type": "markdown",
   "id": "01f8d9fa-6fb7-4352-aadb-3abeb932c412",
   "metadata": {},
   "source": [
    "### Shuffle all rows"
   ]
  },
  {
   "cell_type": "code",
   "execution_count": 12,
   "id": "246bb815-274b-43a3-9d60-967a5864a6da",
   "metadata": {},
   "outputs": [
    {
     "data": {
      "text/html": [
       "<div>\n",
       "<style scoped>\n",
       "    .dataframe tbody tr th:only-of-type {\n",
       "        vertical-align: middle;\n",
       "    }\n",
       "\n",
       "    .dataframe tbody tr th {\n",
       "        vertical-align: top;\n",
       "    }\n",
       "\n",
       "    .dataframe thead th {\n",
       "        text-align: right;\n",
       "    }\n",
       "</style>\n",
       "<table border=\"1\" class=\"dataframe\">\n",
       "  <thead>\n",
       "    <tr style=\"text-align: right;\">\n",
       "      <th></th>\n",
       "      <th>Tweets</th>\n",
       "      <th>Labels</th>\n",
       "    </tr>\n",
       "  </thead>\n",
       "  <tbody>\n",
       "    <tr>\n",
       "      <th>32057</th>\n",
       "      <td>سيلينا و بلاك بينك واو\\n</td>\n",
       "      <td>negative</td>\n",
       "    </tr>\n",
       "    <tr>\n",
       "      <th>44071</th>\n",
       "      <td>👐 يارب ياكريم انصر نصرنا اليوم وكل يوم واكفيه ...</td>\n",
       "      <td>negative</td>\n",
       "    </tr>\n",
       "    <tr>\n",
       "      <th>41778</th>\n",
       "      <td>🔸🔸 🖼🖼 🔸🔸 📌 #لوحتي 🔹 #فوائد - #معلومات - #معلوم...</td>\n",
       "      <td>negative</td>\n",
       "    </tr>\n",
       "    <tr>\n",
       "      <th>44119</th>\n",
       "      <td>متذكرين لما بتنتظروا بيان التجمع و جدول الاسبو...</td>\n",
       "      <td>negative</td>\n",
       "    </tr>\n",
       "    <tr>\n",
       "      <th>7650</th>\n",
       "      <td>هه وش بك زعلتي (المقصد وش هالعادة الي تخليكم ت...</td>\n",
       "      <td>positive</td>\n",
       "    </tr>\n",
       "  </tbody>\n",
       "</table>\n",
       "</div>"
      ],
      "text/plain": [
       "                                                  Tweets    Labels\n",
       "32057                           سيلينا و بلاك بينك واو\\n  negative\n",
       "44071  👐 يارب ياكريم انصر نصرنا اليوم وكل يوم واكفيه ...  negative\n",
       "41778  🔸🔸 🖼🖼 🔸🔸 📌 #لوحتي 🔹 #فوائد - #معلومات - #معلوم...  negative\n",
       "44119  متذكرين لما بتنتظروا بيان التجمع و جدول الاسبو...  negative\n",
       "7650   هه وش بك زعلتي (المقصد وش هالعادة الي تخليكم ت...  positive"
      ]
     },
     "execution_count": 12,
     "metadata": {},
     "output_type": "execute_result"
    }
   ],
   "source": [
    "#train_corpus = shuffle(train_corpus)\n",
    "\n",
    "train_corpus = train_corpus.sample(frac=1, random_state=42)\n",
    "train_corpus.head()"
   ]
  },
  {
   "cell_type": "markdown",
   "id": "ef8eb39f-5e28-47c2-8188-5b83e74f4bdd",
   "metadata": {},
   "source": [
    "### Data cleaning\n",
    "\n",
    "**Hint: remove URLs, Hashtags, alphanumeric characters, punctuation marks, stop words, extra spaces**"
   ]
  },
  {
   "cell_type": "code",
   "execution_count": 13,
   "id": "d141959a",
   "metadata": {},
   "outputs": [],
   "source": [
    "URL_pattern = r\"http[s]?://(?:[a-zA-Z]|[0-9]|[$-_@.&+]|[!*\\\\(\\\\),]|(?:%[0-9a-fA-F][0-9a-fA-F]))+\"\n",
    "hashtag_pattern = r\"#\\w+\"\n",
    "mention_pattern = r\"@\\w+\"\n",
    "alphanumeric_pattern = r\"\\w*\\d\\w*\"\n",
    "punctuation_pattern = r\"[^\\w\\s]\"\n",
    "retweet_pattern = r\"^RT[\\s]+\""
   ]
  },
  {
   "cell_type": "code",
   "execution_count": 14,
   "id": "957b0161-4c2d-4f33-90a3-e8892a27455a",
   "metadata": {},
   "outputs": [],
   "source": [
    "def load_stopwords(file_path):\n",
    "    with open(file_path, 'r', encoding=\"utf-8\") as f:\n",
    "        stopwords = f.readlines()\n",
    "        stop_set = set(m.strip() for m in stopwords)\n",
    "    return frozenset(stop_set)\n",
    "\n",
    "def process_text(text, stop_words):\n",
    "    # Remove URLs\n",
    "    text = re.sub(URL_pattern, '', text)\n",
    "    \n",
    "    # Remove hashtags\n",
    "    text = re.sub(hashtag_pattern, '', text)\n",
    "    \n",
    "    # Remove mention\n",
    "    text = re.sub(mention_pattern, '', text)\n",
    "\n",
    "    # Remove alphanumeric characters\n",
    "    text = re.sub(alphanumeric_pattern, '', text)\n",
    "\n",
    "    # Remove punctuation marks\n",
    "    text = re.sub(punctuation_pattern, '', text)\n",
    "    \n",
    "    # Remove Retweet marks\n",
    "    text = re.sub(retweet_pattern, '', text)\n",
    "\n",
    "    # Remove stop words using the provided set\n",
    "    text = ' '.join([word for word in text.split() if word.lower() not in stop_words])\n",
    "    text = ' '.join(text.split())\n",
    "    return text"
   ]
  },
  {
   "cell_type": "markdown",
   "id": "d5996172",
   "metadata": {},
   "source": [
    "#### Now Clean your text using above function or implement it from scrach"
   ]
  },
  {
   "cell_type": "code",
   "execution_count": 15,
   "id": "42e2c527",
   "metadata": {},
   "outputs": [
    {
     "data": {
      "text/plain": [
       "32057                                 سيلينا بلاك بينك واو\n",
       "44071    يارب ياكريم انصر نصرنا وكل واكفيه شر الظلم وال...\n",
       "41778                                                    م\n",
       "44119    متذكرين لما بتنتظروا بيان التجمع جدول الاسبوع ...\n",
       "7650     هه وش بك زعلتي المقصد وش هالعادة الي تخليكم تج...\n",
       "44899    لماذا تفعل شيئا يجعلني أشعر بأنك تستحق أعنيه أجلك\n",
       "30597                                            يسمى عزلة\n",
       "17856    يخلق الله شيئا أقوى الدعاء جعله أقوى أقداره أق...\n",
       "16051                   ياصباح الحب ومساء الحب لحبيبة قلبي\n",
       "53940    انتي اكتر يا فطوم والله شهر صعب ربنا يعديه علي...\n",
       "43033                                            مسكين انا\n",
       "19545                  نخلة الجنة سبحان الله العظيم وبحمده\n",
       "28346    هالصيف شاء الله بورتلاند فالطبيعة تعجبك ومره ح...\n",
       "45307    الاقي نفس وين الاقي نفسي الفضاء النجوم وبجانب ...\n",
       "9024     انجاز بستحق انو نفرح بيهو لكننا انتظار الفرح ا...\n",
       "21190    هما بيرقصو اغنيه وادى رقصه الكرانبه يا أبا يا ...\n",
       "1227              جميل ترا جميل يرتويت لك بحد ذاته شي جميل\n",
       "27622    كلام إعلامي يظهر قناة حكوميه الدعوه سايبه يا ح...\n",
       "2399     الحب رزق استمالة قلوب الاطفال صعب وشرف ينال با...\n",
       "44608    كنت متوقعه اخر رحله دفعتي هتبقي حاجه تانيه خال...\n",
       "Name: Tweets, dtype: object"
      ]
     },
     "execution_count": 15,
     "metadata": {},
     "output_type": "execute_result"
    }
   ],
   "source": [
    "stop_words = load_stopwords('/Users/nadam/Desktop/RNN_Lab1/corpus/Stop_Words.txt')\n",
    "\n",
    "df=pd.Series(train_corpus['Tweets'])\n",
    "\n",
    "def clean_text(text):\n",
    "    return process_text(text, stop_words)\n",
    "\n",
    "cleaned_tweets= df.apply(clean_text)\n",
    "cleaned_tweets.head(20)"
   ]
  },
  {
   "cell_type": "markdown",
   "id": "acf0cb63",
   "metadata": {},
   "source": [
    "#### Extra: you could do stemming or lemmatization before training"
   ]
  },
  {
   "cell_type": "code",
   "execution_count": 16,
   "id": "16e90093-df46-48ce-bcc8-db719ecf8caf",
   "metadata": {},
   "outputs": [],
   "source": [
    "\n",
    "import spacy\n",
    "from nltk.stem import PorterStemmer, WordNetLemmatizer\n",
    "\n",
    "stemmer = PorterStemmer()\n",
    "lemmatizer = WordNetLemmatizer()\n"
   ]
  },
  {
   "cell_type": "code",
   "execution_count": 17,
   "id": "fc8b4d57-f16b-469e-9405-7a055527a5ac",
   "metadata": {},
   "outputs": [
    {
     "data": {
      "text/plain": [
       "\"\\ndef apply_stemming(text):\\n    tokens = text.split()\\n    stemmed_tokens = [stemmer.stem(token) for token in tokens]\\n    return ' '.join(stemmed_tokens)\\n\\ndef apply_lemmatization(text):\\n    doc = nlp(text)\\n    lemmatized_tokens = [token.lemma_ for token in doc]\\n    return ' '.join(lemmatized_tokens)\\n\""
      ]
     },
     "execution_count": 17,
     "metadata": {},
     "output_type": "execute_result"
    }
   ],
   "source": [
    "'''\n",
    "def apply_stemming(text):\n",
    "    tokens = text.split()\n",
    "    stemmed_tokens = [stemmer.stem(token) for token in tokens]\n",
    "    return ' '.join(stemmed_tokens)\n",
    "\n",
    "def apply_lemmatization(text):\n",
    "    doc = nlp(text)\n",
    "    lemmatized_tokens = [token.lemma_ for token in doc]\n",
    "    return ' '.join(lemmatized_tokens)\n",
    "'''"
   ]
  },
  {
   "cell_type": "code",
   "execution_count": 18,
   "id": "08719dec-8383-4000-bbeb-f0e7867611fc",
   "metadata": {},
   "outputs": [
    {
     "data": {
      "text/plain": [
       "\"\\nfor i in range(train_corpus.shape[0]):\\n    processed_text = process_text(train_corpus.iloc[i, train_corpus.columns.get_loc('Tweets')], stop_words)\\n    stemmed_text = apply_stemming(processed_text)  \\n    train_corpus.iloc[i, train_corpus.columns.get_loc('Tweets')] = stemmed_text\\n\""
      ]
     },
     "execution_count": 18,
     "metadata": {},
     "output_type": "execute_result"
    }
   ],
   "source": [
    "'''\n",
    "for i in range(train_corpus.shape[0]):\n",
    "    processed_text = process_text(train_corpus.iloc[i, train_corpus.columns.get_loc('Tweets')], stop_words)\n",
    "    stemmed_text = apply_stemming(processed_text)  \n",
    "    train_corpus.iloc[i, train_corpus.columns.get_loc('Tweets')] = stemmed_text\n",
    "'''"
   ]
  },
  {
   "cell_type": "code",
   "execution_count": 19,
   "id": "2f76a59a-2106-4a42-8087-fd3f7e36010f",
   "metadata": {},
   "outputs": [
    {
     "data": {
      "text/plain": [
       "54343    اللهم ارحم موتانا اغسل قبورهم غسلت الارض بالمط...\n",
       "38158    أجمل الأماكن مررت أثناء احدى زياراتي للعاصمة ا...\n",
       "860      الهلال ينتصر لكنه بعيد جدا مستواه إهدار غريب ل...\n",
       "15795                                  هه توسع راسه المربع\n",
       "56422                                              لك وحشه\n",
       "Name: Tweets, dtype: object"
      ]
     },
     "execution_count": 19,
     "metadata": {},
     "output_type": "execute_result"
    }
   ],
   "source": [
    "cleaned_tweets.tail()"
   ]
  },
  {
   "cell_type": "code",
   "execution_count": 20,
   "id": "88827e71-0924-4e29-823d-d1b2bb666b7b",
   "metadata": {},
   "outputs": [
    {
     "data": {
      "text/plain": [
       "58751"
      ]
     },
     "execution_count": 20,
     "metadata": {},
     "output_type": "execute_result"
    }
   ],
   "source": [
    "len(train_corpus)"
   ]
  },
  {
   "cell_type": "markdown",
   "id": "ffa1156c-89a8-41ba-90d5-0eb413cbcfa8",
   "metadata": {},
   "source": [
    "## Tokenizer"
   ]
  },
  {
   "cell_type": "code",
   "execution_count": 21,
   "id": "ffff237c-e7a1-4684-b987-d373c56179f9",
   "metadata": {},
   "outputs": [
    {
     "name": "stdout",
     "output_type": "stream",
     "text": [
      "Total number of words:  77383\n"
     ]
    }
   ],
   "source": [
    "from tensorflow.keras.preprocessing.text import Tokenizer\n",
    "from tensorflow.keras.preprocessing.sequence import pad_sequences\n",
    "\n",
    "tokenizer = Tokenizer(oov_token='<oov>') \n",
    "tokenizer.fit_on_texts(cleaned_tweets) \n",
    "sequences = tokenizer.texts_to_sequences(cleaned_tweets)\n",
    "num_words = len(tokenizer.word_index) + 1\n",
    "\n",
    "print(\"Total number of words: \", num_words)"
   ]
  },
  {
   "cell_type": "markdown",
   "id": "b485120c-47f1-43e9-b6c1-cbe0a69f04c7",
   "metadata": {},
   "source": [
    "# Split data to train and test"
   ]
  },
  {
   "cell_type": "code",
   "execution_count": 22,
   "id": "116e73af-8d88-4928-8243-6f456fc6de40",
   "metadata": {},
   "outputs": [],
   "source": [
    "input_sequences = []\n",
    "labels = []\n",
    "for sequence in sequences:\n",
    "    for i in range(1, len(sequence)):\n",
    "        n_gram_sequence = sequence[:i+1]\n",
    "        input_sequences.append(n_gram_sequence[:-1])\n",
    "        labels.append(n_gram_sequence[-1])\n",
    "\n",
    "\n",
    "split_ratio = 0.8 # 80% for the train\n",
    "split_index = int(split_ratio * len(input_sequences))\n",
    "x_train, y_train = input_sequences[:split_index], labels[:split_index]\n",
    "x_test, y_test = input_sequences[split_index:], labels[split_index:] # 20 for the test"
   ]
  },
  {
   "cell_type": "code",
   "execution_count": 25,
   "id": "a10ad703-eed6-4a6e-a6c4-6ae8131b4fdd",
   "metadata": {},
   "outputs": [],
   "source": [
    "class DataGenerator(tf.keras.utils.Sequence):\n",
    "    def __init__(self, tokenizer, sequences, labels, batch_size, max_sequence_length, num_classes):\n",
    "        self.tokenizer = tokenizer\n",
    "        self.sequences = sequences\n",
    "        self.labels = labels\n",
    "        self.batch_size = batch_size\n",
    "        self.max_sequence_length = max_sequence_length\n",
    "        self.num_classes = num_classes\n",
    "\n",
    "    def __len__(self):\n",
    "        return len(self.sequences) // self.batch_size\n",
    "\n",
    "    def __getitem__(self, index):\n",
    "        batch_indices = np.random.choice(len(self.sequences), size=self.batch_size, replace=False)\n",
    "        batch_sequences = [self.sequences[i] for i in batch_indices]\n",
    "        batch_labels = [self.labels[i] for i in batch_indices]\n",
    "        x = pad_sequences(batch_sequences, maxlen=self.max_sequence_length)\n",
    "        y = self.one_hot_encode(batch_labels)\n",
    "\n",
    "        return x, y\n",
    "\n",
    "    def one_hot_encode(self, labels):\n",
    "        encoded_labels = np.zeros((len(labels), self.num_classes), dtype=np.float32)\n",
    "        for i, label in enumerate(labels):\n",
    "            encoded_labels[i, label] = 1.0\n",
    "        return encoded_labels"
   ]
  },
  {
   "cell_type": "markdown",
   "id": "5bba90d2-7712-4e80-9120-c82f495b5f66",
   "metadata": {},
   "source": [
    "# Text to sequence"
   ]
  },
  {
   "cell_type": "code",
   "execution_count": 26,
   "id": "b8d2fb10-2a1a-4201-8d23-a3301dcb51fe",
   "metadata": {},
   "outputs": [],
   "source": [
    "tokenizer.fit_on_texts(cleaned_tweets)\n",
    "#sequences = tokenizer.texts_to_sequences(cleaned_tweets)\n"
   ]
  },
  {
   "cell_type": "markdown",
   "id": "21c31c7d-0375-4ef2-9f51-dccef70793d3",
   "metadata": {},
   "source": [
    "# Pad sequence"
   ]
  },
  {
   "cell_type": "code",
   "execution_count": 27,
   "id": "0d05e3c6-6f92-4a49-a904-f0af742ffe4b",
   "metadata": {},
   "outputs": [],
   "source": [
    "max_sequence_length = max([len(seq) for seq in input_sequences])\n",
    "input_sequences = pad_sequences(input_sequences, maxlen=max_sequence_length)"
   ]
  },
  {
   "cell_type": "code",
   "execution_count": 28,
   "id": "f0885f94-424c-4350-bc61-53894259cf75",
   "metadata": {},
   "outputs": [],
   "source": [
    "epoch = 20 # \n",
    "batch_size = 64 \n",
    "\n",
    "\n",
    "train_data_generator = DataGenerator(tokenizer, x_train, y_train, batch_size, max_sequence_length, num_words)\n",
    "test_data_generator = DataGenerator(tokenizer, x_test, y_test, batch_size, max_sequence_length, num_words)"
   ]
  },
  {
   "cell_type": "markdown",
   "id": "8e5d0909-8e90-4aef-9ddb-42c3597791cb",
   "metadata": {},
   "source": [
    "# RNN Model"
   ]
  },
  {
   "cell_type": "code",
   "execution_count": null,
   "id": "47efb8b2-7635-48ba-a4ae-4118862e74a7",
   "metadata": {},
   "outputs": [
    {
     "name": "stdout",
     "output_type": "stream",
     "text": [
      "Epoch 1/10\n",
      "5932/5975 [============================>.] - ETA: 15s - loss: 3.5405e-04 - accuracy: 1.0000"
     ]
    }
   ],
   "source": [
    "model = Sequential()\n",
    "model.add(Embedding(input_dim=num_words, output_dim=100, input_length=max_sequence_length))\n",
    "model.add(SimpleRNN(100, return_sequences=True))\n",
    "model.add(SimpleRNN(100))\n",
    "model.add(Dense(units=1, activation='sigmoid'))\n",
    "model.compile(loss='binary_crossentropy', optimizer='adam', metrics=['accuracy'])\n",
    "model.fit(train_data_generator, epochs=10, batch_size=512)"
   ]
  },
  {
   "cell_type": "code",
   "execution_count": null,
   "id": "d82ffde4-9f77-48a9-b90e-0593bb903a9c",
   "metadata": {},
   "outputs": [],
   "source": [
    "model.summary()"
   ]
  },
  {
   "cell_type": "markdown",
   "id": "d8a35492-747b-4fea-a80c-1602ff36da21",
   "metadata": {},
   "source": [
    "# LSTM Model"
   ]
  },
  {
   "cell_type": "code",
   "execution_count": null,
   "id": "dea5fb34-e15c-45cf-bf39-5a4c65a28705",
   "metadata": {},
   "outputs": [],
   "source": [
    "model_LSTM = Sequential()\n",
    "model_LSTM.add(Embedding(input_dim= num_words, output_dim=100, input_length=max_sequence_length))\n",
    "model_LSTM.add(LSTM(units=128))\n",
    "model_LSTM.add(Dense(units=1, activation='sigmoid'))\n",
    "model_LSTM.compile(loss='binary_crossentropy', optimizer='adam', metrics=['accuracy'])\n",
    "model_LSTM.fit(train_data_generator, epochs=3, batch_size=256)"
   ]
  },
  {
   "cell_type": "markdown",
   "id": "7e105a33-8de7-406f-a5fb-c1a558c7bb9d",
   "metadata": {},
   "source": [
    "# Evaulation and Comparsion"
   ]
  },
  {
   "cell_type": "code",
   "execution_count": null,
   "id": "3a956b35-0604-44d5-87f2-eacfb36870d2",
   "metadata": {},
   "outputs": [],
   "source": [
    "loss, accuracy = model.evaluate(test_data_generator)\n",
    "print(\"Loss:\", loss)\n",
    "print(\"Accuracy:\", accuracy)"
   ]
  },
  {
   "cell_type": "code",
   "execution_count": null,
   "id": "b5a386bb-4334-4e97-97f6-ca54e11bb383",
   "metadata": {},
   "outputs": [],
   "source": [
    "model = tf.keras.models.load_model('model.h5')"
   ]
  },
  {
   "cell_type": "code",
   "execution_count": null,
   "id": "1c1763a9-757c-4a6d-b54c-96f13321477f",
   "metadata": {},
   "outputs": [],
   "source": [
    "pd.DataFrame(samples.items(), columns=[\"start\", \"predicted\"])"
   ]
  }
 ],
 "metadata": {
  "kernelspec": {
   "display_name": "Python 3 (ipykernel)",
   "language": "python",
   "name": "python3"
  },
  "language_info": {
   "codemirror_mode": {
    "name": "ipython",
    "version": 3
   },
   "file_extension": ".py",
   "mimetype": "text/x-python",
   "name": "python",
   "nbconvert_exporter": "python",
   "pygments_lexer": "ipython3",
   "version": "3.11.4"
  }
 },
 "nbformat": 4,
 "nbformat_minor": 5
}
